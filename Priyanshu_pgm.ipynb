{
 "cells": [
  {
   "cell_type": "markdown",
   "metadata": {},
   "source": [
    "# Restricted Boltzman Machine \n",
    "\n",
    "A restricted Boltzmann Machine is an \"Energy Based\" generative stochastic model. They were initially invented by Paul Smolensky in 1986 and were called \"Harmonium\". After the evolution of training algorithms in the mid 2000's by Geoffrey Hinton, the boltzman machine became more prominent. They gained big popularity in recent years in the context of the Netflix Prize where RBMs achieved state of the art performance in collaborative filtering and have beaten most of the competition.\n",
    "\n",
    "RBM's are useful for dimensionality reduction, classification, regression, collaborative filtering, feature learning and topic modeling. \n"
   ]
  },
  {
   "cell_type": "markdown",
   "metadata": {},
   "source": [
    "## Architecture\n",
    "RBMs are shallow, two-layer neural nets that constitute the building blocks of deep-belief networks. The first layer of the RBM is called the visible, or input, layer, and the second is the hidden layer. The absense of an output layer is apparent. As we move forward we would learn why the output layer won't be needed.\n",
    "<img src=\"figure1.png\" width=\"150\" height=\"50\" title=\"Layers in RBM\">\n",
    "Figure1: Layers in RBM\n",
    "Each circle in the figure above represents a neuron-like unit called a node, and nodes are simply where calculations take place. \n",
    "<img src=\"figure3.png\" width=\"500\" height=\"200\" title=\"Layers in RBM\">\n",
    "Figure2: Structure of RBM\n",
    "The nodes are connected to each other across layers, but no two nodes of the same layer are linked. That is, there is no intra-layer communication – this is the restriction in a restricted Boltzmann machine. Each node is a locus of computation that processes input, and begins by making stochastic decisions about whether to transmit that input or not. Each visible node takes a low-level feature from an item in the dataset to be learned."
   ]
  },
  {
   "cell_type": "markdown",
   "metadata": {},
   "source": [
    "Let's start by importing the packages that will be required in this project."
   ]
  },
  {
   "cell_type": "code",
   "execution_count": 1,
   "metadata": {},
   "outputs": [],
   "source": [
    "import numpy as np\n",
    "from collections import Counter, defaultdict\n",
    "import pandas as pd\n",
    "from scipy.sparse import coo_matrix, hstack\n",
    "from sklearn.feature_extraction.text import CountVectorizer\n",
    "from nltk.tokenize import RegexpTokenizer\n",
    "np_rng = np.random.RandomState(1234) #setting the random state\n",
    "import warnings\n",
    "warnings.filterwarnings('ignore')"
   ]
  },
  {
   "cell_type": "code",
   "execution_count": 2,
   "metadata": {},
   "outputs": [],
   "source": [
    "# graded\n",
    "# import amazon review data\n",
    "\n",
    "df = pd.read_excel('amazon.xlsx')"
   ]
  },
  {
   "cell_type": "code",
   "execution_count": 3,
   "metadata": {},
   "outputs": [
    {
     "data": {
      "text/plain": [
       "(1000, 1)"
      ]
     },
     "execution_count": 3,
     "metadata": {},
     "output_type": "execute_result"
    }
   ],
   "source": [
    "#checking the shape\n",
    "df.shape"
   ]
  },
  {
   "cell_type": "code",
   "execution_count": 4,
   "metadata": {},
   "outputs": [
    {
     "data": {
      "text/html": [
       "<div>\n",
       "<style scoped>\n",
       "    .dataframe tbody tr th:only-of-type {\n",
       "        vertical-align: middle;\n",
       "    }\n",
       "\n",
       "    .dataframe tbody tr th {\n",
       "        vertical-align: top;\n",
       "    }\n",
       "\n",
       "    .dataframe thead th {\n",
       "        text-align: right;\n",
       "    }\n",
       "</style>\n",
       "<table border=\"1\" class=\"dataframe\">\n",
       "  <thead>\n",
       "    <tr style=\"text-align: right;\">\n",
       "      <th></th>\n",
       "      <th>Text</th>\n",
       "    </tr>\n",
       "  </thead>\n",
       "  <tbody>\n",
       "    <tr>\n",
       "      <td>0</td>\n",
       "      <td>So there is no way for me to plug it in here i...</td>\n",
       "    </tr>\n",
       "    <tr>\n",
       "      <td>1</td>\n",
       "      <td>Good case, Excellent value.</td>\n",
       "    </tr>\n",
       "    <tr>\n",
       "      <td>2</td>\n",
       "      <td>Great for the jawbone.</td>\n",
       "    </tr>\n",
       "    <tr>\n",
       "      <td>3</td>\n",
       "      <td>Tied to charger for conversations lasting more...</td>\n",
       "    </tr>\n",
       "    <tr>\n",
       "      <td>4</td>\n",
       "      <td>The mic is great.</td>\n",
       "    </tr>\n",
       "  </tbody>\n",
       "</table>\n",
       "</div>"
      ],
      "text/plain": [
       "                                                Text\n",
       "0  So there is no way for me to plug it in here i...\n",
       "1                        Good case, Excellent value.\n",
       "2                             Great for the jawbone.\n",
       "3  Tied to charger for conversations lasting more...\n",
       "4                                  The mic is great."
      ]
     },
     "execution_count": 4,
     "metadata": {},
     "output_type": "execute_result"
    }
   ],
   "source": [
    "#run this and check if you have got the correct output\n",
    "df.head()"
   ]
  },
  {
   "cell_type": "markdown",
   "metadata": {},
   "source": [
    "In Topic Modelling, you find the best set of topics that describe the document. There are various ways to perform topic modelling one of which is RBM. You train your RBM on a set of documents. \n",
    "The visible layers will be the words in the text, the hidden layers will give the Topics. \n",
    "To input words into the visible layer, let's convert the train and test data you split above into a bag of words model."
   ]
  },
  {
   "cell_type": "code",
   "execution_count": 5,
   "metadata": {},
   "outputs": [],
   "source": [
    "#removing whitespaces using regex.\n",
    "token = RegexpTokenizer(r'\\w+')\n",
    "df['Text'] = df['Text'].apply(token.tokenize)\n",
    "df['Text'] = df['Text'].apply(lambda x: ' '.join(x))"
   ]
  },
  {
   "cell_type": "code",
   "execution_count": 6,
   "metadata": {},
   "outputs": [],
   "source": [
    "#graded\n",
    "# create bag of words model on train and test data\n",
    "df['Text']= df['Text'].str.replace('[^\\w\\s]','')# removing punctuation's\n",
    "df['Text'] = df['Text'].apply(lambda x: x.lower())#converting all string to lower cases\n",
    "#tf = CountVectorizer(stop_words ='english')\n",
    "tf = CountVectorizer()  #the final shape should be (number of documents, vocabulary)\n",
    "#stop_words ='english'\n",
    "# fit tf on the dataframe df\n",
    "#tf = tf.fit(df['Text'])\n",
    "\n",
    "# transform df dataframe\n",
    "trainX = tf.fit_transform(df['Text'])"
   ]
  },
  {
   "cell_type": "code",
   "execution_count": 7,
   "metadata": {},
   "outputs": [
    {
     "data": {
      "text/plain": [
       "0      so there is no way for me to plug it in here i...\n",
       "1                              good case excellent value\n",
       "2                                  great for the jawbone\n",
       "3      tied to charger for conversations lasting more...\n",
       "4                                       the mic is great\n",
       "                             ...                        \n",
       "995    the screen does get smudged easily because it ...\n",
       "996    what a piece of junk i lose more calls on this...\n",
       "997                          item does not match picture\n",
       "998    the only thing that disappoint me is the infra...\n",
       "999    you can not answer calls with the unit never w...\n",
       "Name: Text, Length: 1000, dtype: object"
      ]
     },
     "execution_count": 7,
     "metadata": {},
     "output_type": "execute_result"
    }
   ],
   "source": [
    "#checking the lower case\n",
    "df['Text']"
   ]
  },
  {
   "cell_type": "code",
   "execution_count": 8,
   "metadata": {},
   "outputs": [
    {
     "name": "stdout",
     "output_type": "stream",
     "text": [
      "16\n"
     ]
    },
    {
     "data": {
      "text/plain": [
       "(1000, 1847)"
      ]
     },
     "execution_count": 8,
     "metadata": {},
     "output_type": "execute_result"
    }
   ],
   "source": [
    "#checking different outputs\n",
    "print(sum(trainX.toarray()[5]))\n",
    "trainX.shape"
   ]
  },
  {
   "cell_type": "code",
   "execution_count": 9,
   "metadata": {},
   "outputs": [
    {
     "name": "stdout",
     "output_type": "stream",
     "text": [
      "4\n"
     ]
    },
    {
     "data": {
      "text/plain": [
       "(1000, 1847)"
      ]
     },
     "execution_count": 9,
     "metadata": {},
     "output_type": "execute_result"
    }
   ],
   "source": [
    "#checking different outputs\n",
    "print(sum(trainX.toarray()[13]))\n",
    "trainX.shape"
   ]
  },
  {
   "cell_type": "code",
   "execution_count": 10,
   "metadata": {},
   "outputs": [
    {
     "name": "stdout",
     "output_type": "stream",
     "text": [
      "2\n"
     ]
    },
    {
     "data": {
      "text/plain": [
       "(1000, 1847)"
      ]
     },
     "execution_count": 10,
     "metadata": {},
     "output_type": "execute_result"
    }
   ],
   "source": [
    "#checking different outputs\n",
    "print(sum(trainX.toarray()[18]))\n",
    "trainX.shape"
   ]
  },
  {
   "cell_type": "code",
   "execution_count": 11,
   "metadata": {},
   "outputs": [
    {
     "name": "stdout",
     "output_type": "stream",
     "text": [
      "4\n"
     ]
    },
    {
     "data": {
      "text/plain": [
       "(1000, 1847)"
      ]
     },
     "execution_count": 11,
     "metadata": {},
     "output_type": "execute_result"
    }
   ],
   "source": [
    "#check if you are getting the correct output\n",
    "print(sum(trainX.toarray()[1]))\n",
    "trainX.shape"
   ]
  },
  {
   "cell_type": "markdown",
   "metadata": {},
   "source": [
    "You should get:\n",
    "<br>\n",
    "\n",
    "3 <br>\n",
    "(1000, 1825)"
   ]
  },
  {
   "cell_type": "code",
   "execution_count": 12,
   "metadata": {},
   "outputs": [
    {
     "name": "stdout",
     "output_type": "stream",
     "text": [
      "1st sentence:- good case excellent value \n",
      "This sentence has words = 4\n"
     ]
    }
   ],
   "source": [
    "#checking the no. of words in a particular sentence\n",
    "print('1st sentence:-',df['Text'][1],'\\nThis sentence has words =' ,sum(trainX.toarray()[1]))\n"
   ]
  },
  {
   "cell_type": "code",
   "execution_count": 15,
   "metadata": {},
   "outputs": [
    {
     "name": "stdout",
     "output_type": "stream",
     "text": [
      "5th sentence:- i have to jiggle the plug to get it to line up right to get decent volume \n",
      "This sentence has words = 16\n"
     ]
    }
   ],
   "source": [
    "#checking the no. of words in a particular sentence\n",
    "print('5th sentence:-',df['Text'][5],'\\nThis sentence has words =' ,sum(trainX.toarray()[5]))"
   ]
  },
  {
   "cell_type": "code",
   "execution_count": 16,
   "metadata": {},
   "outputs": [
    {
     "name": "stdout",
     "output_type": "stream",
     "text": [
      "18th sentence:- works great \n",
      "This sentence has words = 2\n"
     ]
    }
   ],
   "source": [
    "#checking the no. of words in a particular sentence\n",
    "print('18th sentence:-',df['Text'][18],'\\nThis sentence has words =' ,sum(trainX.toarray()[18]))"
   ]
  },
  {
   "cell_type": "code",
   "execution_count": 17,
   "metadata": {},
   "outputs": [
    {
     "name": "stdout",
     "output_type": "stream",
     "text": [
      "CountVectorizer(analyzer='word', binary=False, decode_error='strict',\n",
      "                dtype=<class 'numpy.int64'>, encoding='utf-8', input='content',\n",
      "                lowercase=True, max_df=1.0, max_features=None, min_df=1,\n",
      "                ngram_range=(1, 1), preprocessor=None, stop_words=None,\n",
      "                strip_accents=None, token_pattern='(?u)\\\\b\\\\w\\\\w+\\\\b',\n",
      "                tokenizer=None, vocabulary=None)\n",
      "Vocabulary size: 1847\n",
      "Vocabulary content:\n",
      " {'so': 1491, 'there': 1609, 'is': 854, 'no': 1074, 'way': 1766, 'for': 653, 'me': 993, 'to': 1640, 'plug': 1212, 'it': 857, 'in': 814, 'here': 762, 'the': 1604, 'us': 1714, 'unless': 1702, 'go': 711, 'by': 233, 'converter': 367, 'good': 715, 'case': 259, 'excellent': 569, 'value': 1733, 'great': 721, 'jawbone': 864, 'tied': 1630, 'charger': 281, 'conversations': 366, 'lasting': 901, 'more': 1033, 'than': 1599, '45': 20, 'minutes': 1021, 'major': 977, 'problems': 1245, 'mic': 1012, 'have': 749, 'jiggle': 866, 'get': 698, 'line': 929, 'up': 1708, 'right': 1361, 'decent': 416, 'volume': 1745, 'if': 799, 'you': 1843, 'several': 1427, 'dozen': 485, 'or': 1118, 'hundred': 792, 'contacts': 357, 'then': 1607, 'imagine': 805, 'fun': 681, 'of': 1096, 'sending': 1416, 'each': 506, 'them': 1606, 'one': 1106, 'are': 112, 'razr': 1294, 'owner': 1144, 'must': 1050, 'this': 1618, 'needless': 1060, 'say': 1391, 'wasted': 1763, 'my': 1052, 'money': 1029, 'what': 1781, 'waste': 1762, 'and': 91, 'time': 1632, 'sound': 1510, 'quality': 1278, 'he': 752, 'was': 1760, 'very': 1737, 'impressed': 809, 'when': 1784, 'going': 713, 'from': 673, 'original': 1124, 'battery': 154, 'extended': 588, 'two': 1686, 'were': 1780, 'seperated': 1420, 'mere': 1004, 'ft': 677, 'started': 1530, 'notice': 1085, 'excessive': 573, 'static': 1535, 'garbled': 691, 'headset': 755, 'though': 1621, 'design': 429, 'odd': 1094, 'as': 119, 'ear': 507, 'clip': 307, 'not': 1081, 'comfortable': 319, 'at': 124, 'all': 71, 'highly': 766, 'recommend': 1321, 'any': 99, 'who': 1792, 'has': 744, 'blue': 186, 'tooth': 1653, 'phone': 1185, 'advise': 64, 'everyone': 563, 'do': 472, 'be': 155, 'fooled': 652, 'far': 607, 'works': 1826, 'clicks': 306, 'into': 845, 'place': 1194, 'that': 1602, 'makes': 980, 'wonder': 1817, 'how': 786, 'long': 945, 'mechanism': 995, 'would': 1833, 'last': 899, 'went': 1779, 'on': 1104, 'motorola': 1040, 'website': 1772, 'followed': 650, 'directions': 448, 'but': 224, 'could': 375, 'pair': 1153, 'again': 66, 'bought': 201, 'use': 1718, 'with': 1812, 'kindle': 886, 'fire': 629, 'absolutely': 38, 'loved': 965, 'commercials': 324, 'most': 1035, 'misleading': 1022, 'yet': 1842, 'run': 1378, 'new': 1066, 'below': 169, 'bars': 149, 'three': 1623, 'days': 411, 'without': 1814, 'charging': 284, 'mother': 1037, 'she': 1433, 'had': 729, 'problem': 1244, 'pocket': 1216, 'pc': 1167, 'combination': 315, 've': 1734, 'owned': 1143, 'months': 1032, 'now': 1087, 'can': 243, 'best': 172, 'mobile': 1025, 'didn': 442, 'think': 1616, 'instructions': 838, 'provided': 1263, 'helpful': 761, 'people': 1174, 'couldnt': 377, 'hear': 757, 'talk': 1589, 'pull': 1268, 'out': 1131, 'earphone': 514, 'doesn': 475, 'hold': 771, 'charge': 279, 'simple': 1458, 'little': 937, 'breakage': 206, 'unacceptible': 1690, 'product': 1249, 'ideal': 798, 'like': 926, 'whose': 1795, 'ears': 518, 'sensitive': 1417, 'unusable': 1707, 'moving': 1042, 'car': 251, 'freeway': 666, 'speed': 1521, 'years': 1839, 'left': 913, 'contract': 360, 'hate': 746, 'well': 1778, 'ac': 39, 'included': 816, 'make': 979, 'sure': 1578, 'never': 1065, 'juice': 870, 'highy': 767, 'recommended': 1322, 'need': 1058, 'least': 911, 'mins': 1019, 'your': 1844, 'book': 192, 'first': 630, 'turn': 1682, 'life': 921, 'short': 1442, 'kept': 878, 'poor': 1219, 'performance': 1177, 'fine': 626, '680': 26, 'worthless': 1831, 'camera': 242, 'thats': 1603, '2mp': 13, 'pics': 1188, 'nice': 1069, 'clear': 302, 'picture': 1189, 'priced': 1239, 'only': 1109, 'garbage': 690, 'audio': 129, 'bluetooth': 189, 'features': 613, 'want': 1756, 'their': 1605, 'mind': 1016, 'gonna': 714, 'buy': 227, 'after': 65, 'arguing': 114, 'verizon': 1736, 'regarding': 1328, 'dropped': 495, 'calls': 240, 'we': 1767, 'returned': 1354, 'phones': 1186, 'seems': 1411, 'made': 970, 'disappointed': 454, 'loud': 959, 'enough': 544, 'should': 1444, 'protection': 1258, 'does': 474, 'too': 1649, 'bulky': 222, 'usable': 1715, 'keyboard': 880, 'actually': 53, 'turns': 1684, 'pda': 1169, 'real': 1301, 'world': 1827, 'useful': 1720, 'machine': 969, 'instead': 836, 'just': 872, 'neat': 1057, 'gadget': 687, 'pretty': 1235, 'sturdy': 1560, 'large': 898, 'love': 964, 'thing': 1614, 'everything': 564, 'about': 35, 'reasonable': 1305, 'price': 1238, 'even': 558, 'stream': 1550, 'submerged': 1564, '15': 5, 'seconds': 1403, 'still': 1542, 'been': 161, 'happy': 741, '510': 24, 'complaints': 337, 'end': 539, 'buttons': 226, 'off': 1097, 'bad': 144, 'essentially': 555, 'forget': 657, 'microsoft': 1014, 'tech': 1592, 'support': 1575, 'really': 1303, 'faceplates': 596, 'since': 1461, 'looks': 949, 'elegant': 532, 'cool': 368, 'these': 1611, 'headphones': 754, 'find': 624, 'they': 1612, 'perhaps': 1180, 'purchase': 1270, 'seriously': 1422, 'different': 445, 'particular': 1161, 'angle': 93, 'other': 1127, 'party': 1162, 'clearly': 304, 'big': 176, 'drawback': 490, 'mp3': 1043, 'player': 1204, 'front': 674, 'cover': 383, 'let': 918, 'pause': 1165, 'skip': 1469, 'songs': 1504, 'lock': 941, 'few': 619, 'week': 1774, 'later': 905, 'activated': 51, 'suddenly': 1569, 'died': 443, 'feels': 616, 'headsets': 756, 'because': 159, 'wear': 1769, 'glasses': 708, 'gets': 699, 'sometimes': 1500, 'ipods': 850, 'device': 438, 'situations': 1465, 'work': 1823, 'bmw': 191, 'series': 1421, 'which': 1787, 'fairly': 601, 'quiet': 1281, 'trouble': 1675, 'hearing': 758, 'person': 1183, 'saying': 1392, 'choice': 295, 'docking': 473, 'station': 1536, 'home': 776, 'beautiful': 158, 'd807': 405, 'wrongly': 1837, 'advertised': 63, 'item': 858, 'handy': 736, 'lot': 957, 'purchased': 1271, 'within': 1813, 'longer': 946, 'working': 1825, 'everyday': 562, 'holds': 774, 'bargain': 148, 'packaged': 1148, 'arrived': 118, 'intended': 840, 'runs': 1379, 'down': 482, 'quickly': 1280, 'worked': 1824, 'broke': 210, 'easy': 523, 'loves': 966, 'construction': 352, 'better': 173, 'boy': 203, 'cheaper': 287, 'loads': 940, 'super': 1571, 'costs': 374, 'much': 1045, 'expect': 581, 'greater': 722, 'ease': 520, 'buds': 219, 'play': 1203, 'music': 1049, 'dont': 480, 'will': 1799, 'order': 1119, 'plan': 1197, 'found': 660, 'waaay': 1749, 'tried': 1673, 'bluetooths': 190, 'both': 197, 'listener': 933, 'using': 1724, 'decision': 417, 'integrated': 839, 'seamlessly': 1400, 'buyer': 228, 'beware': 175, 'flush': 648, 'toilet': 1645, 'definitely': 422, 'free': 664, 'shipping': 1440, 'received': 1312, 'supposedly': 1576, '375': 16, 'apparently': 106, 'match': 989, 'between': 174, 'pros': 1256, 'pictures': 1190, 'also': 80, 'styles': 1561, 'black': 181, 'white': 1791, 'huge': 789, 'flaw': 636, 'correctly': 372, 'don': 478, '350': 15, 'jabra350': 862, 'reception': 1315, 'piece': 1191, 'fit': 631, 'although': 81, 'rated': 1290, 'an': 90, 'impressive': 810, 'megapixels': 999, 'renders': 1336, 'images': 804, 'fall': 602, 'expectations': 582, 'such': 1565, 'relatively': 1332, 'high': 764, 'resolution': 1345, 'purcashed': 1269, 'call': 238, 'wife': 1797, 'ask': 121, 'slim': 1476, 'light': 922, 'display': 462, 'its': 860, 'geeky': 693, 'sex': 1429, 'toast': 1642, 'rocks': 1372, 'oozes': 1110, 'embedded': 537, 'sleek': 1471, 'stylish': 1563, 'leather': 912, 'fast': 608, 'compromise': 340, 'full': 679, 'qwerty': 1284, 'basic': 151, 'cell': 269, 'number': 1088, 'keypad': 881, 'got': 718, 'around': 116, 'may': 992, 'completely': 338, 'unhappy': 1697, 'winner': 1803, 'setup': 1426, 'couldn': 376, 'simpler': 1459, 'earpieces': 517, 'jabra': 861, 'fits': 632, 'comfortably': 320, 'strong': 1554, 'signal': 1453, 'iam': 796, 'pleased': 1209, 'job': 867, 'done': 479, 'basically': 152, 'service': 1423, 'did': 441, 'am': 84, 'set': 1424, 'weeks': 1775, 'bt': 214, 'disapoinment': 451, 'small': 1480, 'realize': 1302, 'while': 1788, 'getting': 700, 'used': 1719, 'accompanied': 48, 'software': 1493, 'almost': 76, 'brilliant': 209, 'nicely': 1070, 'avoid': 134, 'damage': 406, 'definitly': 423, 'careful': 254, 'majority': 978, 'logitech': 944, 'earbud': 508, 'failed': 599, 'stuff': 1557, 'peachy': 1170, 'keen': 874, 'house': 785, 'coverage': 384, 'upstairs': 1713, 'basement': 150, 'voice': 1743, 'recognition': 1319, 'tremendous': 1670, 'during': 501, 'minute': 1020, 'experienced': 586, 'drops': 497, 'area': 113, 'takes': 1588, 'forever': 655, 'hours': 783, 'literally': 936, 'reccomendation': 1308, 'relative': 1331, 'glad': 706, 'items': 859, 'stated': 1534, 'description': 428, 'screen': 1398, 'sudden': 1568, 'hoping': 779, 'linking': 931, '8530': 30, 'blackberry': 182, 'curve': 399, 'know': 890, 'sounds': 1512, 'funny': 686, 'seemed': 1410, 'sketchy': 1468, 'technology': 1593, 'wouldn': 1834, 'wired': 1806, 'kind': 885, 'messages': 1007, 'web': 1771, 'browsing': 213, 'significantly': 1455, 'faster': 609, 'previous': 1237, 'build': 220, 'unlike': 1703, 'some': 1496, 'cheap': 286, 'fantastic': 606, 'perfectly': 1176, 'colors': 314, 'w810i': 1748, 'superb': 1572, 'whine': 1789, 'internet': 844, 'goes': 712, 'less': 916, 'communications': 327, 'tool': 1651, 'communicate': 325, 'charm': 285, 'same': 1384, 'maintain': 975, 'monkeys': 1030, 'shouldn': 1445, 'obviously': 1092, 'share': 1431, 'dna': 471, 'copy': 370, 'over': 1136, 'humans': 790, 'bougth': 202, 'l7c': 893, 'look': 947, 'sharp': 1432, 'graphics': 720, 'mode': 1026, 'button': 225, 'side': 1450, 'thank': 1600, 'wasting': 1764, 'igo': 800, 'chargers': 282, 'tips': 1638, 'file': 622, 'browser': 212, 'offers': 1099, 'options': 1117, 'needs': 1061, 'handsfree': 735, 'network': 1064, 'connected': 347, 'hs850': 788, 'whether': 1786, 'put': 1277, 'latest': 906, 'os': 1126, 'v1': 1728, '15g': 6, 'likes': 928, 'slow': 1478, 'crawl': 393, 'every': 561, 'once': 1105, 'recognizes': 1320, 'storage': 1546, 'buzzing': 232, 'override': 1141, 'bluetoooth': 188, 'functionality': 684, 'awesome': 137, 'thorn': 1619, 'abhor': 31, 'recently': 1314, 'where': 1785, 'stay': 1537, '10': 0, 'before': 164, 'being': 166, 'disconnected': 459, 'incredible': 821, '13': 4, 'bucks': 218, 'check': 290, 'mail': 973, 'night': 1072, 'backlight': 143, 'message': 1006, 'lost': 956, 'replacement': 1340, 'ring': 1363, 'tone': 1647, 'overall': 1137, 'lately': 904, 'extremely': 592, 'wit': 1811, 'hit': 769, 'dropping': 496, 'weight': 1776, 'hardly': 743, 'll': 939, 'thin': 1613, 'pleather': 1210, 'useless': 1722, 'simply': 1460, 'deaf': 413, 'color': 312, 'prettier': 1234, 'thought': 1622, 'incredibly': 822, 'investment': 847, 'strange': 1548, 'ticking': 1629, 'noises': 1076, 'ends': 541, 'electronics': 531, 'available': 132, 'fm': 649, 'transmitters': 1667, 'lasts': 902, 'h500': 728, 'mega': 998, 'pixel': 1193, 'part': 1160, 'reasonably': 1306, 'good7': 716, 'nearly': 1056, 'transmit': 1666, 'back': 141, 'bother': 198, 'contacting': 356, 'company': 329, 'dollar': 477, 'learned': 910, 'lesson': 917, 'form': 659, 'online': 1108, 'anyway': 102, 'earbugs': 510, 'means': 994, 'range': 1287, 'able': 33, 'roam': 1370, 'living': 938, 'room': 1374, 'issues': 856, 'felt': 618, 'crack': 386, 'worst': 1829, 'ever': 560, 'infatuated': 827, 'freezes': 667, 'frequently4': 668, 'embarrassing': 536, 'mostly': 1036, 'child': 292, 'lightweight': 925, 'expected': 583, 'consumer': 353, 'experience': 585, 'horrible': 780, 'tick': 1628, 'background': 142, 'certainly': 276, 'usually': 1725, 'headbands': 753, 'mess': 1005, 'hair': 730, 'bit': 179, 'year': 1838, 'tell': 1595, 'ordered': 1120, 'sony': 1505, 'ericsson': 553, 'favorite': 611, 'purchases': 1272, 'market': 988, 'authentic': 130, 'shine': 1436, 'comfort': 318, 'excited': 576, 'cute': 402, 'mistake': 1024, 'disappointment': 456, 'calendar': 237, 'sync': 1585, 'customer': 400, 'additional': 59, 'gels': 694, 'whatsoever': 1783, 'defeats': 418, 'purpose': 1274, 'worth': 1830, 'penny': 1172, 'wallet': 1755, 'type': 1687, 'excrutiatingly': 578, 'probably': 1243, 'important': 807, 'aspect': 122, 'glove': 709, 'secure': 1404, 'durable': 500, 'gosh': 717, 'attractive': 128, 'appears': 109, 'factor': 598, 'rubber': 1377, 'petroleum': 1184, 'smell': 1483, 'unbearable': 1691, 'caused': 265, 'return': 1353, 'cable': 235, 'flimsy': 641, 'scary': 1394, 'earpiece': 516, 'hands': 733, 'stereo': 1541, 'month': 1031, 'flawlessly': 639, 'absolutel': 37, 'junk': 871, 'either': 530, 'drain': 487, 'potentially': 1227, 'fry': 676, 'unreliable': 1704, 'giving': 705, 'gave': 692, 'stars': 1528, 'reversible': 1357, 'rotating': 1375, 'feature': 612, 'our': 1130, 'whole': 1794, 'family': 605, 'seller': 1414, 'plantronics': 1200, 'adorable': 62, 'buying': 230, 'poorly': 1220, 'contstruct': 363, 'hinge': 768, 'installed': 834, 'charged': 280, 'overnite': 1140, 'thru': 1626, 'handset': 734, 'cat': 263, 'attacked': 127, 'scratched': 1397, 'protective': 1259, 'strip': 1553, 'destroying': 434, 'terrible': 1596, 'razor': 1293, 'v3i': 1732, 'wise': 1809, 'someone': 1498, 'shouldve': 1446, 'invented': 846, 'sooner': 1507, 'try': 1679, 'engineered': 542, 'clever': 305, 'many': 986, 'complained': 335, 'microphone': 1013, 'weak': 1768, 'old': 1103, 'nokia': 1077, '2160': 11, 'tracfone': 1659, 'care': 253, 'instruction': 837, 'manual': 984, 'lacking': 894, 'alarm': 70, 'clock': 310, 'removing': 1335, 'antena': 97, 'uncomfortable': 1692, 'quite': 1283, 'compared': 331, 'plugged': 1213, 'lg': 920, 'gotten': 719, 'compliments': 339, 'state': 1533, 'allow': 73, 'usage': 1716, 'driving': 491, 'immediately': 806, 'ngage': 1068, 'earbuds': 509, 'dialing': 440, 'cant': 248, 'anything': 101, 'low': 967, 'however': 787, 'riingtones': 1362, 'neither': 1063, 'games': 689, 'amazon': 87, 'sucks': 1567, 'rip': 1367, 'came': 241, 'ago': 69, 'couple': 380, 'ipod': 849, 'recharge': 1317, 'frequentyly': 669, 'flip': 642, 'adhesive': 61, 'disappointing': 455, 'inexpensive': 826, 'practically': 1230, 'add': 57, 'boost': 194, 'times': 1635, 'concrete': 342, 'knock': 889, 'wood': 1820, 'transformed': 1664, 'organizational': 1123, 'capability': 249, 'easier': 521, 'sitting': 1464, 'vehicle': 1735, 'cradle': 388, 'belt': 170, 'jerks': 865, 'los': 954, 'angeles': 92, 'starter': 1531, 'wireless': 1808, 'loudspeaker': 962, 'option': 1116, 'bumpers': 223, 'lights': 924, 'appealing': 107, 'improve': 812, 'leaks': 909, 'hot': 781, 'according': 49, 'called': 239, 'applifies': 110, 'save': 1389, 'specially': 1519, 'face': 595, 'transmission': 1665, 's11': 1380, 'data': 408, 'finished': 628, 'looking': 948, 'happier': 740, 'drivng': 492, 'along': 78, 'starts': 1532, 'ringing': 1365, 'reason': 1304, 'having': 751, 'auto': 131, 'reverse': 1356, 'tape': 1591, 'embarassing': 535, 'hurt': 793, 'push': 1275, 'protects': 1261, 'sides': 1451, 'average': 133, 'operates': 1114, 'skype': 1470, 'soyo': 1515, 'take': 1587, 'self': 1413, 'portraits': 1223, 'outside': 1135, 'exterior': 589, 'others': 1128, 'mentioned': 1002, 'trying': 1680, 'gadgets': 688, 'finally': 623, 'magical': 971, 'help': 760, 'crap': 390, 'shipped': 1439, 'promptly': 1254, 'exactly': 566, 'wanted': 1757, 'comparably': 330, 'offering': 1098, 'today': 1643, 'deal': 414, 'satisfied': 1387, 'encourage': 538, 'give': 703, 'effective': 527, 'waiting': 1750, 'recieve': 1318, 'prompt': 1253, 'especially': 554, 'stupid': 1558, 'keep': 875, 'cradles': 389, 'kits': 888, 'comes': 317, 'excelent': 568, 'cingulair': 298, 'nicer': 1071, 'noticed': 1086, 'era': 550, 'colored': 313, 'dead': 412, 'hoursthe': 784, 'thereplacement': 1610, '2000': 9, 'cheaply': 288, 'att': 126, 'distorted': 467, 'yell': 1840, 'plastic': 1202, 'breaks': 208, 'oh': 1101, 'forgot': 658, 'mention': 1001, 'weird': 1777, 'effect': 526, 'iriver': 853, 'spinn': 1522, 'unit': 1699, 'fond': 651, 'magnetic': 972, 'strap': 1549, 'psyched': 1266, 'appointments': 111, 'another': 94, 'note': 1082, 'appearance': 108, 'rather': 1291, 'bland': 184, 'model': 1027, 'sanyo': 1386, 'survived': 1581, 'dozens': 486, 'blacktop': 183, 'ill': 801, 'earphones': 515, 'finds': 625, 'away': 136, 'enter': 545, 'modest': 1028, 'cellular': 272, 'clarity': 300, 'warning': 1758, 'wish': 1810, 'awsome': 140, 'drained': 488, 'dying': 503, 'earpad': 513, 'anyone': 100, 'displeased': 463, 'might': 1015, 'defect': 419, 'risk': 1369, 'built': 221, 'alone': 77, 'difficult': 446, 'install': 833, 'restored': 1350, 'purchasing': 1273, 'jx': 873, 'moto': 1038, 'figure': 621, 'searched': 1401, 'size': 1466, 'key': 879, 'pad': 1149, 'lit': 935, 'nothing': 1084, 'hard': 742, 'wasn': 1761, 'portable': 1222, 'colleague': 311, 'expensive': 584, 'fully': 680, 'bed': 160, 'turned': 1683, 'wi': 1796, 'fi': 620, '20': 8, 'morning': 1034, 'reading': 1299, 'memory': 1000, 'card': 252, 'always': 83, 'wearing': 1770, 'hat': 745, 'sunglasses': 1570, 'timely': 1634, 'shipment': 1438, 'solid': 1495, 'surefire': 1579, 'gx2': 727, 'bt50': 216, 'computer': 341, 'buyers': 229, 'remorse': 1334, 'accessoryone': 46, 'inexcusable': 825, 'returning': 1355, 'changing': 277, 'carriers': 256, 'tmobile': 1639, 'update': 1710, 'procedure': 1246, 'cumbersome': 396, 'motorolas': 1041, 'delivery': 425, 'vx9900': 1747, 'env': 548, 'switch': 1583, 'rocketed': 1371, 'destination': 433, 'unknown': 1701, 'under': 1693, 'conditions': 343, 'worthwhile': 1832, 'usefulness': 1721, 'bills': 178, 'understand': 1694, 'pricing': 1240, 'plans': 1199, 'overnight': 1139, 'batteries': 153, 'won': 1816, 'regret': 1329, 'user': 1723, 'friendly': 670, 'unfortunately': 1696, 'ability': 32, 'receiving': 1313, 'pitiful': 1192, 'respect': 1346, 'exchanged': 575, 'results': 1352, 'stuck': 1555, 'max': 991, 'mute': 1051, 'hybrid': 794, 'palmtop': 1158, 'cellphone': 270, 'excels': 570, 'those': 1620, 'roles': 1373, 'bt250v': 215, 'liked': 927, 'wrong': 1836, 'described': 427, '11': 2, 'im': 802, 'bose': 196, 'noise': 1075, 'cancelling': 246, 'amazing': 86, 'nyc': 1091, 'commuter': 328, 'defective': 420, 'given': 704, 'star': 1527, 'unacceptable': 1689, 'holster': 775, 'photo': 1187, 'ad': 54, 'earlier': 512, 'review': 1358, 'noted': 1083, 'happens': 739, 'frog': 672, 'eye': 593, 'catching': 264, 'pushed': 1276, 'function': 682, 'amazed': 85, 'aluminum': 82, 'palm': 1156, 'vx': 1746, 'protected': 1257, 'handheld': 732, 'tools': 1652, 'sturdiness': 1559, 'orders': 1122, 'timeframe': 1633, 'source': 1513, 'waterproof': 1765, 'complaint': 336, 'standard': 1526, 'thanks': 1601, 'things': 1615, 'ended': 540, 'sliding': 1475, 'edge': 525, 'pants': 1159, 'pockets': 1217, 'store': 1547, 'ugly': 1688, 'shield': 1434, 'incrediable': 820, 'improvement': 813, 'refuse': 1326, 'refund': 1324, 'replace': 1338, 'accidentally': 47, 'activate': 50, 'gentle': 696, 'touch': 1657, 'listening': 934, 'threw': 1624, 'window': 1801, 'took': 1650, 'drop': 494, 'inches': 815, 'above': 36, 'kitchen': 887, 'counter': 378, 'cracked': 387, 'laughing': 907, 'trunk': 1677, 'carried': 255, 'conversation': 365, 'hitch': 770, 'practical': 1229, 'ample': 89, 'eargels': 511, 'channel': 278, 'directly': 449, 'seem': 1409, 'increase': 819, 'none': 1078, 'ones': 1107, 'properly': 1255, 'missed': 1023, 'numerous': 1090, 'cannot': 247, 'sucked': 1566, 'shifting': 1435, 'bubbling': 217, 'peeling': 1171, 'scratch': 1396, 'droid': 493, 'zero': 1846, 'exercise': 579, 'frustration': 675, 'own': 1142, 'earset': 519, 'outgoing': 1132, 'total': 1655, 'package': 1147, 'understanding': 1695, 'patient': 1164, 'wirefly': 1807, 'contact': 354, 'cingular': 299, 'inform': 828, 'practice': 1231, 'aggravating': 68, 'friends': 671, 'enjoy': 543, 'virgin': 1741, 'muddy': 1046, 'casing': 261, 'wire': 1805, 'insert': 831, 'glued': 710, 'slid': 1472, 'please': 1208, 'isn': 855, 'plantronincs': 1201, 'continues': 359, 'flawed': 637, 'disapointing': 452, 'fourth': 662, 'hated': 747, 'fixes': 634, 'accessing': 44, 'downloading': 484, 'ringtones': 1366, 'performing': 1179, 'functions': 685, 'barely': 147, 'constantly': 350, 'joke': 868, 'said': 1383, 'due': 499, 'happening': 738, 'forced': 654, 'stop': 1543, 'adapters': 56, 'walked': 1752, 'through': 1625, 'procedures': 1247, 're': 1295, 'wiping': 1804, 'strength': 1551, 'plays': 1206, 'louder': 960, 'speaker': 1517, 'constructed': 351, 'menus': 1003, 'navigate': 1054, 'recessed': 1316, 'holding': 773, 'avoiding': 135, 'broken': 211, 'smoking': 1485, 'sprint': 1524, 'linked': 930, 'effort': 529, 'possesed': 1224, 'idea': 797, 'trash': 1668, 'research': 1343, 'development': 437, 'division': 470, 'knows': 891, 'doing': 476, 'killer': 884, 'course': 382, 'breaking': 207, 'infuriating': 830, 'walkman': 1753, 'charges': 283, 'feel': 615, 'europe': 557, 'asia': 120, 'clipping': 308, 'deffinitely': 421, '50': 22, 'cent': 273, 'coming': 322, 'behing': 165, '5020': 23, 'comfortible': 321, '24': 12, 'day': 410, 'pain': 1151, 'quick': 1279, 'arrival': 117, 'fraction': 663, 'samsung': 1385, 'crappy': 391, 'e715': 505, 'seeen': 1408, 'stopped': 1544, 'needed': 1059, 'operate': 1113, 'interface': 842, 'decade': 415, 'compete': 332, 'designs': 431, 'paired': 1154, 'treo': 1671, '700w': 27, 'usb': 1717, 'transceiver': 1662, 'steer': 1540, 'genuine': 697, 'replacementr': 1341, 'pens': 1173, 'come': 316, 'pack': 1146, 'buyit': 231, 'beats': 157, 'fingers': 627, 'plus': 1215, 'believe': 167, 'steep': 1539, 'point': 1218, 'cases': 260, 'normally': 1080, 'apart': 104, 'haul': 748, 'dissapointing': 466, 'brand': 204, 'extra': 591, 'originally': 1125, 'discarded': 457, 'players': 1205, 'posted': 1226, 'detailed': 436, 'comments': 323, 'grey': 723, 'red': 1323, 'pay': 1166, 'guess': 726, 'existing': 580, 'cds': 268, 'connection': 349, 'surprised': 1580, 'reviews': 1359, 'fabulous': 594, 'currently': 398, 'shooters': 1441, 'delay': 424, 'messes': 1009, 'bitpim': 180, 'program': 1251, 'transfer': 1663, 'accessory': 45, 'manufacturer': 985, 'performed': 1178, 'awful': 138, 'muffled': 1047, 'tinny': 1636, 'incoming': 817, 'severe': 1428, 'echo': 524, 'wind': 1800, 'resistant': 1344, 'overly': 1138, 'contacted': 355, 'told': 1646, 'warranty': 1759, 'produce': 1248, 'receipt': 1310, 'luck': 968, 'linksys': 932, 'exchange': 574, 'refurb': 1325, 'something': 1499, 'bar': 146, 'placed': 1195, 'snug': 1490, 'heavy': 759, 'keeps': 877, 'falling': 603, 'utter': 1726, 'promised': 1252, 'loop': 950, 'tiny': 1637, 'four': 661, 'spring': 1523, 'latch': 903, 'visor': 1742, 'tries': 1674, 'download': 483, 'address': 60, 'reboots': 1307, 'rate': 1289, 'tungsten': 1681, 'e2': 504, 'flipphones': 643, 'designed': 430, 'smoothly': 1487, 'study': 1556, 'interested': 841, 'sins': 1462, 'industrial': 824, 'happened': 737, 'tracking': 1661, 'access': 42, 'detachable': 435, 'continue': 358, 'pairing': 1155, 'periodically': 1181, 'somehow': 1497, 'upload': 1712, 'third': 1617, 'locks': 943, 'screens': 1399, 'flash': 635, 'randomly': 1286, 'locked': 942, 'truly': 1676, '325': 14, 'worn': 1828, 'ringer': 1364, 'choices': 296, 'tones': 1648, 'acceptable': 41, 'balance': 145, 'ready': 1300, 'prime': 1241, 'upbeat': 1709, 'chinese': 294, 'forgeries': 656, 'abound': 34, 'explain': 587, 'jack': 863, 'ca': 234, '42': 18, 'crisp': 395, 'smallest': 1481, 'stays': 1538, 'biggest': 177, 'drains': 489, 'superfast': 1573, 'ergonomic': 551, 'theory': 1608, 'stand': 1525, 'video': 1739, 'clips': 309, 'occupied': 1093, 'distracting': 468, 'hour': 782, 'entire': 547, 'accept': 40, 'except': 571, 'cbr': 267, 'mp3s': 1044, 'preferably': 1232, 'ripped': 1368, 'windows': 1802, 'media': 996, 'beat': 156, 'shots': 1443, 'sos': 1509, 'signals': 1454, 'allows': 75, 'connect': 346, 'mini': 1018, 'near': 1055, 'open': 1111, 'allowing': 74, 'startac': 1529, 'regretted': 1330, 'outperform': 1134, 'china': 293, 'v325i': 1730, 'numbers': 1089, 'sim': 1457, '3o': 17, 'crashed': 392, 'replaced': 1339, 'quit': 1282, '18': 7, 'iphone': 848, '4s': 21, 'despite': 432, 'connecting': 348, 'multiple': 1048, 'power': 1228, 'sources': 1514, 'imac': 803, 'external': 590, 'wall': 1754, 'outlet': 1133, 'etc': 556, 'elsewhere': 534, 'bells': 168, 'whistles': 1790, 'mediocre': 997, 'via': 1738, 'slide': 1473, 'grip': 724, 'prevents': 1236, 'slipping': 1477, 'hand': 731, 'span': 1516, 'exclaim': 577, 'whoa': 1793, 'tv': 1685, 'corded': 371, 'freedom': 665, 'passed': 1163, 'mark': 987, 'shows': 1449, 'signs': 1456, '100': 1, 'functional': 683, 'soft': 1492, 'tight': 1631, 'cut': 401, 'shape': 1430, 'copier': 369, 'sizes': 1467, 'sent': 1419, 'anywhere': 103, 'sold': 1494, 'units': 1700, 'provides': 1264, 'classy': 301, 'krussel': 892, 'tracfonewebsite': 1660, 'toactivate': 1641, 'texas': 1597, 'dit': 469, '5320': 25, 'mainly': 974, 'soon': 1506, 'whatever': 1782, 'next': 1067, 'blueant': 187, 'supertooth': 1574, 'metro': 1011, 'pcs': 1168, 'sch': 1395, 'r450': 1285, 'slider': 1474, 'premium': 1233, 'plugs': 1214, 'plenty': 1211, 'capacity': 250, 'confortable': 344, 'somewhat': 1501, 'periods': 1182, 'ant': 96, 'hey': 763, 'pleasantly': 1207, 'suprised': 1577, 'cost': 373, 'dustpan': 502, 'indoors': 823, 'disposable': 464, 'puff': 1267, 'smoke': 1484, 'convenient': 364, 'ride': 1360, 'smoother': 1486, 'nano': 1053, 'son': 1503, 'dissapointed': 465, 'reccommend': 1309, 'carries': 257, 'highest': 765, 'anti': 98, 'glare': 707, 'protector': 1260, 'date': 409, 'smartphone': 1482, 'wont': 1819, 'atleast': 125, 'addition': 58, 'amp': 88, 'reoccure': 1337, 'bottom': 199, 'somewhere': 1502, 'else': 533, '12': 3, 'creaks': 394, 'wooden': 1821, 'floor': 645, 'apartment': 105, 'generally': 695, 'inconspicuous': 818, 'boot': 195, 'slowly': 1479, 'sorry': 1508, 'impossible': 808, 'refused': 1327, 'upgrade': 1711, 'discount': 460, 'securly': 1406, 'possibility': 1225, 'double': 481, 'booking': 193, 'break': 205, 'entertainment': 546, 'communication': 326, 'management': 983, 'activesync': 52, 'optimal': 1115, 'synchronization': 1586, 'disgusting': 461, 'coupon': 381, 'rare': 1288, 'instance': 835, 'perfect': 1175, 'ps3': 1265, 'five': 633, 'cheapy': 289, 'lots': 958, 'sounded': 1511, 'talking': 1590, 'shouting': 1447, 'telephone': 1594, 'yes': 1841, 'shiny': 1437, 'grtting': 725, '44': 19, 'until': 1706, 'v3c': 1731, 'thumbs': 1627, 'together': 1644, 'exceeds': 567, 'feet': 617, 'sight': 1452, 'improper': 811, 'checked': 291, 'everywhere': 565, 'ordering': 1121, 'effects': 528, 'palms': 1157, 'awkward': 139, 'hoped': 778, 'father': 610, 'v265': 1729, 'pads': 1150, 'easily': 522, 'stops': 1545, 'intermittently': 843, 'reaching': 1297, 'row': 1376, 'send': 1415, 'keys': 883, 'nightmare': 1073, 'describe': 426, 'speakerphone': 1518, 'cassette': 262, 'current': 397, 'cellphones': 271, 'planning': 1198, 'says': 1393, 'dirty': 450, 'answer': 95, 'read': 1298, 'haven': 750, 'products': 1250, 'sensor': 1418, 'reliability': 1333, 'beeping': 163, 'letting': 919, 'dieing': 444, 'laptop': 897, 'ir': 851, 'cancellation': 245, 'counterfeit': 379, 'see': 1407, 'travled': 1669, 'swivel': 1584, 'sister': 1463, 'dual': 498, '8125': 28, 'keeping': 876, 'inside': 832, 'bottowm': 200, 'gimmick': 701, 'opens': 1112, 'top': 1654, 'causing': 266, 'discomfort': 458, 'trust': 1678, 'maintains': 976, 'flawless': 638, 'normal': 1079, 'making': 981, 'fails': 600, 'devices': 439, 'utterly': 1727, 'confusing': 345, 'lose': 955, 'holder': 772, 'cutouts': 403, 'land': 895, 'loops': 951, 'material': 990, 'flaws': 640, 'exceptional': 572, 'owning': 1145, 'official': 1100, 'oem': 1095, 'loudest': 961, 'setting': 1425, 'competitors': 333, 'show': 1448, 'saved': 1390, 'alot': 79, 'cuts': 404, 'beep': 162, 'ok': 1102, 'totally': 1656, 'unintelligible': 1698, 'word': 1822, 'restart': 1348, 'managed': 982, 'bend': 171, 'leaf': 908, 'metal': 1010, 'stress': 1552, 'leopard': 915, 'print': 1242, 'wonderfully': 1818, 'wild': 1798, 'saggy': 1382, 'floppy': 646, 'looses': 953, 'snap': 1489, '8525': 29, 'carry': 258, 'fliptop': 644, 'loose': 952, 'wobbly': 1815, 'eventually': 559, 'receive': 1311, 'seat': 1402, 'fulfills': 678, 'requirements': 1342, 'fact': 597, 'rests': 1351, 'lightly': 923, 'against': 67, 'websites': 1773, 'rating': 1292, 'cables': 236, 'lap': 896, 'controls': 362, 'accessable': 43, 'mine': 1017, 'christmas': 297, 'rest': 1347, 'otherwise': 1129, 'joy': 869, 'satisifed': 1388, '2005': 10, 's710a': 1381, 'wow': 1835, 'specs': 1520, 'armband': 115, 'allot': 72, 'clearer': 303, 'keypads': 882, 'reach': 1296, 'ericson': 552, 'z500a': 1845, 'motor': 1039, 'control': 361, 'center': 274, 'voltage': 1744, 'humming': 791, 'equipment': 549, 'certain': 275, 'places': 1196, 'girl': 702, 'complain': 334, 'wake': 1751, 'styling': 1562, 'restocking': 1349, 'fee': 614, 'darn': 407, 'lousy': 963, 'seen': 1412, 'sweetest': 1582, 'securely': 1405, 'hook': 777, 'directed': 447, 'canal': 244, 'unsatisfactory': 1705, 'videos': 1740, 'negatively': 1062, 'adapter': 55, 'provide': 1262, 'hype': 795, 'assumed': 123, 'lense': 914, 'covered': 385, 'falls': 604, 'text': 1598, 'messaging': 1008, 'tricky': 1672, 'painful': 1152, 'lasted': 900, 'blew': 185, 'flops': 647, 'smudged': 1488, 'touches': 1658, 'disappoint': 453, 'infra': 829, 'port': 1221, 'irda': 852}\n"
     ]
    }
   ],
   "source": [
    "#checking the vocabulary length and size\n",
    "print(tf)\n",
    "print(\"Vocabulary size: {}\".format(len(tf.vocabulary_)))\n",
    "print(\"Vocabulary content:\\n {}\".format(tf.vocabulary_))"
   ]
  },
  {
   "cell_type": "markdown",
   "metadata": {},
   "source": [
    "Now that you have the bag of words model, let's define the number of visible and hidden units."
   ]
  },
  {
   "cell_type": "code",
   "execution_count": 18,
   "metadata": {},
   "outputs": [],
   "source": [
    "#graded\n",
    "# define visible units\n",
    "visibleUnits =  trainX.shape[1] # vocabulary size ~1 line\n",
    "\n",
    "# assign number of units\n",
    "hiddenUnits = 5 # hyperparameter, this means that we are looking for 5 topics"
   ]
  },
  {
   "cell_type": "code",
   "execution_count": 19,
   "metadata": {},
   "outputs": [
    {
     "data": {
      "text/plain": [
       "1847"
      ]
     },
     "execution_count": 19,
     "metadata": {},
     "output_type": "execute_result"
    }
   ],
   "source": [
    "#checking the original visible units\n",
    "visibleUnits"
   ]
  },
  {
   "cell_type": "code",
   "execution_count": 20,
   "metadata": {},
   "outputs": [
    {
     "name": "stdout",
     "output_type": "stream",
     "text": [
      "A is  \n",
      "   (0, 0)\t1\n",
      "  (0, 1)\t2\n",
      "  (1, 0)\t3\n",
      "  (1, 1)\t4\n",
      "B is  \n",
      "   (0, 0)\t5\n",
      "  (1, 0)\t6\n"
     ]
    },
    {
     "data": {
      "text/plain": [
       "array([[1, 2, 5],\n",
       "       [3, 4, 6]], dtype=int64)"
      ]
     },
     "execution_count": 20,
     "metadata": {},
     "output_type": "execute_result"
    }
   ],
   "source": [
    "#checking the coo-matrix related units\n",
    "coo_matrix(1 ,shape=[visibleUnits,hiddenUnits]).toarray()\n",
    "A = coo_matrix([[1, 2], [3, 4]]) \n",
    "print(\"A is \",\"\\n\" ,A)\n",
    "B = coo_matrix([[5], [6]])\n",
    "print(\"B is \",\"\\n\" ,B)\n",
    "hstack([A,B]).toarray()"
   ]
  },
  {
   "cell_type": "code",
   "execution_count": 21,
   "metadata": {},
   "outputs": [],
   "source": [
    "#graded\n",
    "# utility Functions\n",
    "\n",
    "# deine the sigmoid function\n",
    "def sigmoid(X):\n",
    "    return 1 / (1 + np.exp(-X))# ~ 1 line"
   ]
  },
  {
   "cell_type": "markdown",
   "metadata": {},
   "source": [
    "## RBM as a Probabilistic Model\n",
    "Restricted Boltzmann Machines are probabilistic. As opposed to assigning discrete values the model assigns probabilities. At each point in time the RBM is in a certain state. The state refers to the values of neurons in the visible and hidden layers v and h. The probability that a certain state of v and h can be observed is given by the following joint distribution:\n",
    "<img src=\"figure4.png\" width=\"200\" height=\"70\" title=\"Layers in RBM\">\n",
    "\n",
    "Eq. 2. Joint Distribution for v and h.\n",
    "Here Z is called the ‘partition function’ that is the summation over all possible pairs of visible and hidden vectors."
   ]
  },
  {
   "cell_type": "markdown",
   "metadata": {},
   "source": [
    "The joint distribution is known as the Boltzmann Distribution which gives the probability that a particle can be observed in the state with the energy E. Unfortunately it is very difficult to calculate the joint probability due to the huge number of possible combination of v and h in the partition function Z. Much easier is the calculation of the conditional probabilities of state h given the state v and conditional probabilities of state v given the state h:\n",
    "<img src=\"figure5.png\" width=\"200\" height=\"70\" title=\"Layers in RBM\">\n",
    "\n",
    "Eq. 3. Conditional probabilities for h and v.\n",
    "It should be noticed beforehand (before demonstrating this fact on practical example) that each neuron in a RBM can only exist in a binary state of 0 or 1. The most interesting factor is the probability that a hidden or visible layer neuron is in the state 1 — hence activated. "
   ]
  },
  {
   "cell_type": "markdown",
   "metadata": {},
   "source": [
    "# Contrastive Divergence\n",
    "\n",
    "### Gibbs Sampling\n",
    "The first part of the training is called Gibbs Sampling. Given an input vector v we are using p(h|v) for prediction of the hidden values h via sampling. Knowing the hidden values we use p(v|h) for prediction of new input values v via sampling. This process is repeated k times. After k iterations, we obtain the visible vector $v_k$ which was recreated from original input values $v_0$.\n",
    "<img src=\"figure8.png\" width=\"500\" height=\"300\" title=\"Layers in RBM\">"
   ]
  },
  {
   "cell_type": "markdown",
   "metadata": {},
   "source": [
    "The gibbs function *gibbs* is divided into subparts: <br>\n",
    "1.*sampleHiddenLayer * <br>\n",
    "2.*sampleVisibleLayer*\n",
    "\n",
    "Let's look at *sampleHiddenLayer* now.\n",
    "\n",
    "### Sample Hidden Layer"
   ]
  },
  {
   "cell_type": "markdown",
   "metadata": {},
   "source": [
    "You already know that given an input vector v the probability for a single hidden neuron j being activated is:\n",
    "<img src=\"figure6.png\" width=\"400\" height=\"200\" title=\"Layers in RBM\">\n",
    "\n",
    "Eq. 4\n",
    "Here is σ the Sigmoid function.\n",
    "\n",
    "*sampleHiddenLayer* takes the visible layer as input to calculate the hidden layer using Eq. 4 *h1Pdf* and then samples it to get * h1_sample*\n",
    "\n",
    "    v_sample: given visible layer matrix; matrix because a batch of data points will be trained at one go\n",
    "    returns a sample vector of hidden layer and its distribution for a batch of data points\n",
    "    \n",
    "    hPdf: distribution of hidden layer; a matrix for batch of datapoints = p(h|v)\n",
    "    h_sample: sampled hidden layer matrix"
   ]
  },
  {
   "cell_type": "code",
   "execution_count": 22,
   "metadata": {},
   "outputs": [],
   "source": [
    "#graded\n",
    "def sampleHiddenLayer(v_sample):\n",
    "    \n",
    "    # write the code for calculation of hPdf using vectorized implementation of Eq 4\n",
    "    hPdf = sigmoid(hiddenBias + np.dot(v_sample, W))# ~ 1 line\n",
    "    \n",
    "    # Here, np.random.binomial is used to create the hidden layer sample matrix\n",
    "    h_sample = np_rng.binomial(size=hPdf.shape, n=1, p=hPdf)\n",
    "    return [hPdf, h_sample]"
   ]
  },
  {
   "cell_type": "markdown",
   "metadata": {},
   "source": [
    "### Sample Visible Layer\n",
    "Similarly, the probability that a binary state of a visible neuron i is set to 1 is:\n",
    "<img src=\"figure7.png\" width=\"400\" height=\"200\" title=\"Layers in RBM\">\n",
    "Eq. 5\n",
    "\n",
    "As seen in equation 5, we will be writing a function to sample the Visible Layer.\n",
    "This function samples the visible layer based on the sampled data of hidden layer. <br>\n",
    "\n",
    "There are some differences in writing the function *sampleVisibleLayer*. <br>Firstly, we use np.random.multinomial to sample the visible layer *v_sample* from the distribution *vPdf*. <br>Secondly,elements of *vPdf* needs to sum to 1 as the function np.random.multinomial used to sample the visible layer takes on probability distributions as *pvals*. In other words, you are finding the softmax values. <br> Thirdly, we also make use of the *D* to sample the visible layer as each document has different word count.\n",
    "    \n",
    "    h_sample: given hidden layer matrix; matrix because a batch of data points will be trained at one go\n",
    "    D: array of the sum of the row of the data vector; vector containing number of words in each document\n",
    "    \n",
    "    returns a sample vector of hidden layer and its distribution for a batch of data points\n",
    "    \n",
    "    vPdf: distribution of visible layer; a matrix for batch of datapoints = p(v|h)\n",
    "    v_sample: sampled visible layer matrix\n",
    "    "
   ]
  },
  {
   "cell_type": "code",
   "execution_count": 23,
   "metadata": {},
   "outputs": [],
   "source": [
    "#graded\n",
    "def sampleVisibleLayer(h_sample, D):\n",
    "    \n",
    "    # complete the following function such that vPdf has the sum of entries equal to 1 for each of the datapoints in the batch\n",
    "    # you have to use axis = 1 in writing the denominator\n",
    "    \n",
    "    numerator = sigmoid(visibleBias + np.dot(h_sample, W.T)) # ~1 line\n",
    "    denominator = np.sum(numerator,axis = 1, keepdims = True)# ~1 line\n",
    "    vPdf =  numerator/denominator # ~1 line\n",
    "    \n",
    "    # Here np.random.multinomial is used to sample as each document has different number of words \n",
    "    # and hence D is also a parameter in sampling\n",
    "    v_sample = np.zeros((batchSize, vPdf.shape[1]))\n",
    "    for i in range(batchSize):\n",
    "        v_sample[i] = np_rng.multinomial(size=1, n=D[i], pvals=vPdf[i])   \n",
    "    return [vPdf, v_sample]"
   ]
  },
  {
   "cell_type": "markdown",
   "metadata": {},
   "source": [
    "### Sampling"
   ]
  },
  {
   "cell_type": "markdown",
   "metadata": {},
   "source": [
    "We use the above functions to write the function *gibbs* to run one iteration of gibbs sampling. Note that we are calculating the visible layer samples first and then using it to calculate he hidden layer sample. It'll become clear soon why we are doing so when you write the function for Contrastive Divergence.\n",
    "    \n",
    "    Input:\n",
    "    h_sample: given hidden layer matrix; matrix because a batch of data points will be trained at one go\n",
    "    D: array of the sum of the row of the data vector; vector containing number of words in each document\n",
    "    \n",
    "    Output:\n",
    "    vPdf: distribution of visible layer\n",
    "    v_sample: sampled visible layer matrix\n",
    "    hPdf: distribution of hidden layer\n",
    "    h_sample: sampled hidden layer matrix"
   ]
  },
  {
   "cell_type": "code",
   "execution_count": 24,
   "metadata": {},
   "outputs": [],
   "source": [
    "#graded\n",
    "def gibbs(h_sample, D):\n",
    "    \n",
    "    #use sampleVIsibleLayer and sampleHiddenLayer \n",
    "    vPdf, v_sample = sampleVisibleLayer(h_sample,D) # ~1 line\n",
    "    hPdf, h_sample = sampleHiddenLayer(v_sample) # ~1 line\n",
    "    return [vPdf, v_sample, hPdf, h_sample ]"
   ]
  },
  {
   "cell_type": "markdown",
   "metadata": {},
   "source": [
    "\n",
    "### Contrastive Divergence\n",
    "\n",
    "You have learned that Contrastive Divergence updates weights after one iteration of Gibbs Sampling. Here, we shall perform *k* such iterations in Contrastive Divergence. \n",
    "The update of the weight matrix happens post the Contrastive Divergence step. "
   ]
  },
  {
   "cell_type": "markdown",
   "metadata": {},
   "source": [
    "\n",
    "Now, we will writing a funtion to run the contrastive divergence algorithm in k steps\n",
    "    \n",
    "    Input:\n",
    "    data: batch data (visible layer)\n",
    "    k: no of iterations for gibbs sampling\n",
    "    \n",
    "    Output:\n",
    "    hiddenPDF_data: distribution of the hidden layer based on data\n",
    "    visibleSamples: visible samples generated by gibbs sampling \n",
    "    hiddenPDF: distribution of the hidden layer based on samples generated by gibbs"
   ]
  },
  {
   "cell_type": "code",
   "execution_count": 25,
   "metadata": {},
   "outputs": [],
   "source": [
    "#graded\n",
    "def cd_k(data,k):\n",
    "    \n",
    "    D = data.sum(axis=1)\n",
    "    hiddenPDF_data, hiddenSample_data = sampleHiddenLayer(data)# sample the hidden layer using the input data\n",
    "    chain_start = hiddenSample_data\n",
    "\n",
    "    for step in range(k):\n",
    "        if step == 0:\n",
    "            visiblePDF, visibleSamples, hiddenPDF, hiddenSamples  = gibbs(chain_start, D) # perform gibbs sampling using chain_start\n",
    "        else:\n",
    "            visiblePDF, visibleSamples, hiddenPDF, hiddenSamples = gibbs(hiddenSamples, D) # perform gibbs sampling using hiddenSamples\n",
    "    return hiddenPDF_data, visibleSamples, hiddenPDF\n"
   ]
  },
  {
   "cell_type": "markdown",
   "metadata": {},
   "source": [
    "## Training the Model\n",
    "\n",
    "Vectors $v_0$ and $v_k$ are used to calculate the activation probabilities for hidden layers $p(h_0|v_0)$ and $p(h_k|v_k)$ (Eq.4). The difference between the outer products of those probabilities with input vectors $v_0$ and $v_k$ results in the update matrix:\n",
    "<img src=\"figure9.png\" width=\"300\" height=\"200\" title=\"Layers in RBM\">\n",
    "Eq. 6. Update matrix. **Figure out** the vectorized implementation for this.\n",
    "\n",
    "In order to calculate $\\Delta (bias)$, <br>\n",
    "<center>$\\Delta (visiblebias) = average\\_ across\\_ batch(v_0 - v_k)$ </center> \n",
    "<center>$\\Delta (hiddenbias) = average\\_across\\_ batch(p(h_0|v_0) - p(h_k|v_k))$ </center> \n",
    "\n",
    "Using the update matrix the new weights can be calculated with momentum gradient ascent, given by:\n",
    "<center>  $mW_t = \\gamma \\ mW_{t-1} - \\Delta W$</center> \n",
    "<center>  $mvisiblebias_t = \\gamma \\ mvisiblebias_{t-1} - \\Delta visiblebias$</center>\n",
    "<center>  $mhiddenbias_t = \\gamma \\ mhiddenbias_{t-1} - \\Delta hiddenbias$</center><br>\n",
    "<center>  $W_t = W_{t-1} + \\alpha \\ mW_t$</center> \n",
    "<center>  $visiblebias_t = visiblebias_{t-1} + \\alpha \\ mvisiblebias_t$</center> \n",
    "<center>  $hiddenbias_t = hiddenbias_{t-1} + \\alpha \\ mhiddenbias_t$</center> \n",
    "\n",
    "\n",
    "Eq. 7. Update rule for the weights.\n",
    "\n",
    "Note that in the code implementation below <br>\n",
    " hiddenPDF_data is $p(h_0|v_0)$ <br>\n",
    " visibleSamples is $v_k$ <br>\n",
    " hiddenPDF is $p(h_k|v_k)$ <br>\n",
    " mdata is $v_0$ <br>\n",
    " eta is $\\alpha$ <br>\n",
    " mrate is $\\gamma$ <br>\n",
    "These will be helpful in writing the weight updates.\n",
    "\n",
    "In this we will write a function which iterates over our data for *epochs*.\n",
    "At every epoch we shuffle the data and then run CD on a mini batch size defined by *batchSize*"
   ]
  },
  {
   "cell_type": "markdown",
   "metadata": {},
   "source": [
    "### Initializations"
   ]
  },
  {
   "cell_type": "code",
   "execution_count": 26,
   "metadata": {},
   "outputs": [],
   "source": [
    "\"\"\"\n",
    "visibleUnits: no of words in your Bag of words Model\n",
    "hiddenUnits: no of topics\n",
    "batchSize: data slice to be selected \n",
    "epochs: no of iterations\n",
    "eta: learning rate\n",
    "mrate: momentum coefficient\n",
    "W : weights between the visible and hidden layer\n",
    "visibleBias, hiddenBias: biases for visible and hidden layer respectively\n",
    "\"\"\"\n",
    "\n",
    "# define batch size\n",
    "batchSize = 200\n",
    "\n",
    "epochs = 100\n",
    "eta = 0.05 \n",
    "mrate = 0.5\n",
    "\n",
    "# initialise weights\n",
    "weightinit=0.01\n",
    "W = weightinit * np_rng.randn(visibleUnits, hiddenUnits)\n",
    "visibleBias = weightinit * np_rng.randn(visibleUnits)\n",
    "hiddenBias = np.zeros((hiddenUnits))\n",
    "\n",
    "# we shall use 10 interations of gibbs sampling\n",
    "k=10"
   ]
  },
  {
   "cell_type": "markdown",
   "metadata": {},
   "source": [
    "### Training"
   ]
  },
  {
   "cell_type": "code",
   "execution_count": 31,
   "metadata": {},
   "outputs": [],
   "source": [
    "#graded\n",
    "def train(dataX,k):\n",
    "    global W,visibleBias,hiddenBias,mrate,batchSize,epochs # calling the variables initiliazed at the begining \n",
    "    mW = 0 # initialise momentum_weights\n",
    "    mvisibleBias = np.zeros(visibleUnits, dtype=np.float64) # initialise momentum_visiblebiases\n",
    "    mhiddenBias = np.zeros(hiddenUnits, dtype=np.float64) # initialise momentum_hiddenbiases\n",
    "     \n",
    "    for epoch in range(epochs):\n",
    "        np_rng.shuffle(dataX) #shuffling the data\n",
    "        \n",
    "        for i in range(0, dataX.shape[0], batchSize):\n",
    "            mData = dataX[i : i + batchSize,:] #select a batch of datapoints\n",
    "            hiddenPDF_data, visibleSamples, hiddenPDF = cd_k(mData, k) # perfrom Contrastive Divergence on the batch for k iterations\n",
    "#        \n",
    "            delW = np.dot(mData.T, hiddenPDF_data) - np.dot(visibleSamples.T, hiddenPDF)\n",
    "            delVisibleBias = np.mean((mData - visibleSamples), axis=0)\n",
    "            delHiddenBias = np.mean((hiddenPDF_data - hiddenPDF), axis=0)\n",
    "            \n",
    "            mW = (mrate * mW)- delW  #write the momentum update equation for weight matrix\n",
    "            mvisibleBias =  (mrate * mvisibleBias) - delVisibleBias   #write the momentum update equation for visiblebias vector\n",
    "            mhiddenBias = (mrate * mhiddenBias)  - delHiddenBias    #write the momentum update equation for hiddenbias vector\n",
    "\n",
    "            W =  W + eta * mW  #weight update equation\n",
    "            visibleBias = visibleBias + eta*mvisibleBias #visible bias update equation\n",
    "            hiddenBias = hiddenBias + eta*mhiddenBias   #hidden bias update equation\n",
    "            "
   ]
  },
  {
   "cell_type": "markdown",
   "metadata": {},
   "source": [
    "## Train the Model\n",
    "\n",
    "This will take around 10 minutes of time to run."
   ]
  },
  {
   "cell_type": "code",
   "execution_count": 32,
   "metadata": {},
   "outputs": [],
   "source": [
    "import time\n",
    "start_time = time.time()\n",
    "train(trainX.toarray(),k)#training the model\n",
    "elapsed_time = time.time() - start_time"
   ]
  },
  {
   "cell_type": "code",
   "execution_count": 33,
   "metadata": {},
   "outputs": [
    {
     "name": "stdout",
     "output_type": "stream",
     "text": [
      "171.15927481651306\n"
     ]
    }
   ],
   "source": [
    "print(elapsed_time)"
   ]
  },
  {
   "cell_type": "markdown",
   "metadata": {},
   "source": [
    "# Word Distribution based on Topics\n",
    "In this function, we are finding the distribution of words over the topics. You can take a look at the words under each topic and see what they are talking about. The number of topics is the number of neurons in the hidden layer. <br>\n",
    "<br>\n",
    "\n",
    "For each topic, the function prints the top 15 words that describe the topic. You can see that some of the words occur in multiple topics.\n",
    "\n",
    "    topic: number of hidden layers\n",
    "    voc: indexing of the vocabulary\n",
    "    \n",
    "Feel free to change the number of iterations of gibbs sampling in Contrastive Divergence and see how the distribution of words change under the topics."
   ]
  },
  {
   "cell_type": "code",
   "execution_count": 34,
   "metadata": {},
   "outputs": [],
   "source": [
    "def worddist( topic, voc):\n",
    "    \n",
    "    \"\"\"\n",
    "    Initialize every topic =1 once \n",
    "    \"\"\"\n",
    "    vecTopics = np.zeros((topic, topic))\n",
    "    for i in range(len(vecTopics)):\n",
    "        vecTopics[i][i] = 1\n",
    "    \n",
    "    \n",
    "    for i, vecTopic in enumerate(vecTopics):\n",
    "       \n",
    "        numerator = np.exp(np.dot(vecTopic, W.T) + visibleBias)\n",
    "        denominator = numerator.sum().reshape((1, 1))\n",
    "        word_distribution = (numerator/denominator).flatten()\n",
    "        \n",
    "        tmpDict = {}\n",
    "        for j in voc.keys():\n",
    "            tmpDict[j] = word_distribution[voc[j]]\n",
    "        print('topic', str(i), ':', vecTopic)\n",
    "        lm=0\n",
    "        for word, prob in sorted(tmpDict.items(), key=lambda x:x[1], reverse=True):\n",
    "            print ( word, str(prob))\n",
    "            lm+=1\n",
    "            if lm==15:\n",
    "                break\n",
    "        print('\\n')"
   ]
  },
  {
   "cell_type": "code",
   "execution_count": 35,
   "metadata": {},
   "outputs": [
    {
     "name": "stdout",
     "output_type": "stream",
     "text": [
      "topic 0 : [1. 0. 0. 0. 0.]\n",
      "armband 0.06631538603249741\n",
      "deffinitely 0.03269527862001966\n",
      "plays 0.02761791255037811\n",
      "fully 0.027283123028830448\n",
      "downloading 0.024294265345621225\n",
      "end 0.020498392748517443\n",
      "key 0.0204308819741804\n",
      "680 0.01962730811723572\n",
      "ca 0.017629758964399875\n",
      "mere 0.017329407387498875\n",
      "called 0.017219408905368563\n",
      "factor 0.015682379595894847\n",
      "clip 0.015497294359715509\n",
      "cases 0.01493832486613693\n",
      "h500 0.0143501946695174\n",
      "\n",
      "\n",
      "topic 1 : [0. 1. 0. 0. 0.]\n",
      "armband 0.06542799402444859\n",
      "deffinitely 0.031752155363348564\n",
      "fully 0.027764450665649\n",
      "plays 0.027751613574856664\n",
      "downloading 0.024527730297094187\n",
      "end 0.020573641678542996\n",
      "key 0.019797927028617168\n",
      "680 0.019637000080884804\n",
      "ca 0.017558347854394165\n",
      "called 0.017455617615215042\n",
      "mere 0.017215084485628952\n",
      "factor 0.01581719194531655\n",
      "clip 0.01545190335485768\n",
      "cases 0.014789212326928123\n",
      "iam 0.014281270521844991\n",
      "\n",
      "\n",
      "topic 2 : [0. 0. 1. 0. 0.]\n",
      "armband 0.06647637623351922\n",
      "deffinitely 0.03266460775121218\n",
      "plays 0.027772052884781157\n",
      "fully 0.02736639329326906\n",
      "downloading 0.024047474293381\n",
      "end 0.020885623228096825\n",
      "key 0.0200863506826828\n",
      "680 0.01979990515468793\n",
      "mere 0.017507082884415586\n",
      "ca 0.017340893511241098\n",
      "called 0.016991837283973632\n",
      "factor 0.015649160799636463\n",
      "clip 0.015343475208579163\n",
      "cases 0.0152202950220032\n",
      "h500 0.01413505324751846\n",
      "\n",
      "\n",
      "topic 3 : [0. 0. 0. 1. 0.]\n",
      "armband 0.06690311232513657\n",
      "deffinitely 0.032395974782411345\n",
      "plays 0.027362775946671393\n",
      "fully 0.02709704092070911\n",
      "downloading 0.023980443106861735\n",
      "end 0.02099140472416634\n",
      "680 0.020063382802706475\n",
      "key 0.01972448854706237\n",
      "mere 0.017739894696231762\n",
      "ca 0.017188616103382934\n",
      "called 0.01693367386707937\n",
      "factor 0.01573125309004994\n",
      "clip 0.015300256397916328\n",
      "cases 0.014727959277498488\n",
      "iam 0.01421743314905336\n",
      "\n",
      "\n",
      "topic 4 : [0. 0. 0. 0. 1.]\n",
      "armband 0.06680699404068574\n",
      "deffinitely 0.03170989481311446\n",
      "plays 0.027444220508223753\n",
      "fully 0.02670705924991938\n",
      "downloading 0.024207609095264225\n",
      "end 0.021201215005857966\n",
      "key 0.02003795965999487\n",
      "680 0.019753828243352867\n",
      "ca 0.01764055646916518\n",
      "called 0.01744226956422919\n",
      "mere 0.017353895457566035\n",
      "factor 0.01594855359523406\n",
      "clip 0.01566189241291216\n",
      "cases 0.014840783818049413\n",
      "program 0.014300672209613391\n",
      "\n",
      "\n"
     ]
    }
   ],
   "source": [
    "worddist( hiddenUnits, tf.vocabulary_)"
   ]
  },
  {
   "cell_type": "markdown",
   "metadata": {},
   "source": [
    "The output shows the probability assigned to each word for ever topic present."
   ]
  }
 ],
 "metadata": {
  "anaconda-cloud": {},
  "kernelspec": {
   "display_name": "Python 3",
   "language": "python",
   "name": "python3"
  },
  "language_info": {
   "codemirror_mode": {
    "name": "ipython",
    "version": 3
   },
   "file_extension": ".py",
   "mimetype": "text/x-python",
   "name": "python",
   "nbconvert_exporter": "python",
   "pygments_lexer": "ipython3",
   "version": "3.7.4"
  }
 },
 "nbformat": 4,
 "nbformat_minor": 1
}
